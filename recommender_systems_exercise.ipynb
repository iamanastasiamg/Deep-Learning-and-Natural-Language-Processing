{
 "cells": [
  {
   "cell_type": "markdown",
   "id": "80316f9d-6c7e-4a83-98e3-47745f318e4f",
   "metadata": {},
   "source": [
    "### Recommender Systems – Exercise"
   ]
  },
  {
   "cell_type": "markdown",
   "id": "368998c0-fc50-4cc9-a19c-15caa1219037",
   "metadata": {},
   "source": [
    "##### Import the libraries necessary for this project."
   ]
  },
  {
   "cell_type": "code",
   "execution_count": 1,
   "id": "7b752176-267b-4c45-aca2-8a7727781137",
   "metadata": {},
   "outputs": [],
   "source": [
    "import pandas as pd"
   ]
  },
  {
   "cell_type": "markdown",
   "id": "03be0bba-4054-490d-9682-4feee971b107",
   "metadata": {},
   "source": [
    "##### Load the ratings and movies data. Merge the two datasets on movieId."
   ]
  },
  {
   "cell_type": "code",
   "execution_count": 2,
   "id": "92a5a7d6-9485-4568-8353-cc53ffd219cb",
   "metadata": {},
   "outputs": [
    {
     "data": {
      "text/html": [
       "<div>\n",
       "<style scoped>\n",
       "    .dataframe tbody tr th:only-of-type {\n",
       "        vertical-align: middle;\n",
       "    }\n",
       "\n",
       "    .dataframe tbody tr th {\n",
       "        vertical-align: top;\n",
       "    }\n",
       "\n",
       "    .dataframe thead th {\n",
       "        text-align: right;\n",
       "    }\n",
       "</style>\n",
       "<table border=\"1\" class=\"dataframe\">\n",
       "  <thead>\n",
       "    <tr style=\"text-align: right;\">\n",
       "      <th></th>\n",
       "      <th>UserID</th>\n",
       "      <th>MovieID</th>\n",
       "      <th>Rating</th>\n",
       "      <th>Timestamp</th>\n",
       "    </tr>\n",
       "  </thead>\n",
       "  <tbody>\n",
       "    <tr>\n",
       "      <th>0</th>\n",
       "      <td>1</td>\n",
       "      <td>122</td>\n",
       "      <td>5.0</td>\n",
       "      <td>838985046</td>\n",
       "    </tr>\n",
       "    <tr>\n",
       "      <th>1</th>\n",
       "      <td>1</td>\n",
       "      <td>185</td>\n",
       "      <td>5.0</td>\n",
       "      <td>838983525</td>\n",
       "    </tr>\n",
       "    <tr>\n",
       "      <th>2</th>\n",
       "      <td>1</td>\n",
       "      <td>231</td>\n",
       "      <td>5.0</td>\n",
       "      <td>838983392</td>\n",
       "    </tr>\n",
       "    <tr>\n",
       "      <th>3</th>\n",
       "      <td>1</td>\n",
       "      <td>292</td>\n",
       "      <td>5.0</td>\n",
       "      <td>838983421</td>\n",
       "    </tr>\n",
       "    <tr>\n",
       "      <th>4</th>\n",
       "      <td>1</td>\n",
       "      <td>316</td>\n",
       "      <td>5.0</td>\n",
       "      <td>838983392</td>\n",
       "    </tr>\n",
       "  </tbody>\n",
       "</table>\n",
       "</div>"
      ],
      "text/plain": [
       "   UserID  MovieID  Rating  Timestamp\n",
       "0       1      122     5.0  838985046\n",
       "1       1      185     5.0  838983525\n",
       "2       1      231     5.0  838983392\n",
       "3       1      292     5.0  838983421\n",
       "4       1      316     5.0  838983392"
      ]
     },
     "execution_count": 2,
     "metadata": {},
     "output_type": "execute_result"
    }
   ],
   "source": [
    "ratings_df = pd.read_csv('ml-10M100K/ratings.dat', sep='::', header=None, names=['UserID', 'MovieID', 'Rating', 'Timestamp'], engine='python')\n",
    "ratings_df.head()"
   ]
  },
  {
   "cell_type": "code",
   "execution_count": 3,
   "id": "9928c267-e222-4e90-93dc-c3a6cf4626a9",
   "metadata": {},
   "outputs": [
    {
     "data": {
      "text/html": [
       "<div>\n",
       "<style scoped>\n",
       "    .dataframe tbody tr th:only-of-type {\n",
       "        vertical-align: middle;\n",
       "    }\n",
       "\n",
       "    .dataframe tbody tr th {\n",
       "        vertical-align: top;\n",
       "    }\n",
       "\n",
       "    .dataframe thead th {\n",
       "        text-align: right;\n",
       "    }\n",
       "</style>\n",
       "<table border=\"1\" class=\"dataframe\">\n",
       "  <thead>\n",
       "    <tr style=\"text-align: right;\">\n",
       "      <th></th>\n",
       "      <th>MovieID</th>\n",
       "      <th>Title</th>\n",
       "      <th>Genres</th>\n",
       "    </tr>\n",
       "  </thead>\n",
       "  <tbody>\n",
       "    <tr>\n",
       "      <th>0</th>\n",
       "      <td>1</td>\n",
       "      <td>Toy Story (1995)</td>\n",
       "      <td>Adventure|Animation|Children|Comedy|Fantasy</td>\n",
       "    </tr>\n",
       "    <tr>\n",
       "      <th>1</th>\n",
       "      <td>2</td>\n",
       "      <td>Jumanji (1995)</td>\n",
       "      <td>Adventure|Children|Fantasy</td>\n",
       "    </tr>\n",
       "    <tr>\n",
       "      <th>2</th>\n",
       "      <td>3</td>\n",
       "      <td>Grumpier Old Men (1995)</td>\n",
       "      <td>Comedy|Romance</td>\n",
       "    </tr>\n",
       "    <tr>\n",
       "      <th>3</th>\n",
       "      <td>4</td>\n",
       "      <td>Waiting to Exhale (1995)</td>\n",
       "      <td>Comedy|Drama|Romance</td>\n",
       "    </tr>\n",
       "    <tr>\n",
       "      <th>4</th>\n",
       "      <td>5</td>\n",
       "      <td>Father of the Bride Part II (1995)</td>\n",
       "      <td>Comedy</td>\n",
       "    </tr>\n",
       "  </tbody>\n",
       "</table>\n",
       "</div>"
      ],
      "text/plain": [
       "   MovieID                               Title  \\\n",
       "0        1                    Toy Story (1995)   \n",
       "1        2                      Jumanji (1995)   \n",
       "2        3             Grumpier Old Men (1995)   \n",
       "3        4            Waiting to Exhale (1995)   \n",
       "4        5  Father of the Bride Part II (1995)   \n",
       "\n",
       "                                        Genres  \n",
       "0  Adventure|Animation|Children|Comedy|Fantasy  \n",
       "1                   Adventure|Children|Fantasy  \n",
       "2                               Comedy|Romance  \n",
       "3                         Comedy|Drama|Romance  \n",
       "4                                       Comedy  "
      ]
     },
     "execution_count": 3,
     "metadata": {},
     "output_type": "execute_result"
    }
   ],
   "source": [
    "movies_df = pd.read_csv('ml-10M100K/movies.dat', sep='::', header=None, names=['MovieID', 'Title', 'Genres'], engine='python')\n",
    "movies_df.head()"
   ]
  },
  {
   "cell_type": "markdown",
   "id": "792ff2e8-0599-45ea-a07c-6f7bd6043fc8",
   "metadata": {},
   "source": [
    "##### Calculate the average rating for each genre."
   ]
  },
  {
   "cell_type": "code",
   "execution_count": 4,
   "id": "2302ecf1-5419-456c-a391-be68c86b93d8",
   "metadata": {},
   "outputs": [
    {
     "name": "stdout",
     "output_type": "stream",
     "text": [
      "The Top 5 Genres:\n",
      " Genre\n",
      "Film-Noir      4.012151\n",
      "Documentary    3.783459\n",
      "War            3.780173\n",
      "IMAX           3.764537\n",
      "Mystery        3.677631\n",
      "Name: Rating, dtype: float64\n"
     ]
    }
   ],
   "source": [
    "# Merge the datasets\n",
    "df = pd.merge(ratings_df, movies_df, on='MovieID')\n",
    "\n",
    "# Split the genres into separate rows\n",
    "df = df.join(df['Genres'].str.split('|', expand=True).stack().reset_index(level=1, drop=True).rename('Genre'))\n",
    "\n",
    "# Calculate the average rating for each genre\n",
    "genre_ratings = df.groupby('Genre')['Rating'].mean().sort_values(ascending=False).head(5)\n",
    "\n",
    "# Get the top 5 genres based on average rating\n",
    "print(\"The Top 5 Genres:\\n\", genre_ratings)"
   ]
  },
  {
   "cell_type": "markdown",
   "id": "7990e8c0-631f-4637-9822-1a761747469c",
   "metadata": {},
   "source": [
    "##### Suggest five movies to a new user that are most popular and highly rated from different genres."
   ]
  },
  {
   "cell_type": "code",
   "execution_count": 5,
   "id": "57bebbab-05f0-4e4f-bb07-f031ca554f24",
   "metadata": {},
   "outputs": [
    {
     "name": "stdout",
     "output_type": "stream",
     "text": [
      "Five Movies Suggestions:\n",
      " Title\n",
      "Blue Light, The (Das Blaue Licht) (1932)                 5.00\n",
      "Constantine's Sword (2007)                               4.75\n",
      "More (1998)                                              4.75\n",
      "Human Condition II, The (Ningen no joken II) (1959)      4.75\n",
      "Human Condition III, The (Ningen no joken III) (1961)    4.75\n",
      "Name: Rating, dtype: float64\n"
     ]
    }
   ],
   "source": [
    "# Determine the most popular movies based on the number of ratings\n",
    "popular_movies = df.groupby('Title').size().sort_values(ascending=False)\n",
    "\n",
    "# Identify the top-rated movies based on average rating\n",
    "top_rated_movies = df.groupby('Title')['Rating'].mean().sort_values(ascending=False)\n",
    "\n",
    "# Filter the data to only include movies with genres in top_5_genres\n",
    "top_5_genres = genre_ratings.index\n",
    "genre_movies = df[df['Genre'].isin(top_5_genres)].groupby('Title').size().sort_values(ascending=False)\n",
    "\n",
    "# Filter the top-rated movies to only include titles that exist in the popular_movies\n",
    "top_rated_in_popular = top_rated_movies[top_rated_movies.index.isin(popular_movies.index)]\n",
    "\n",
    "# Filter the top-rated movies (that are also popular) to only include titles that exist in genre_movies\n",
    "movies_suggestions = top_rated_in_popular[top_rated_in_popular.index.isin(genre_movies.index)]\n",
    "\n",
    "# Get the five movies that are popular, highly rated, and in preferred of genres.\n",
    "print(\"Five Movies Suggestions:\\n\", movies_suggestions.head(5))\n",
    "\n",
    "# Based on the analysis, we will suggest five movies that are popular, highly rated, and in preferred of genres.\n",
    "# These suggestions are based on their popularity, ratings, and genre, ensuring a well-rounded selection for a new user."
   ]
  },
  {
   "cell_type": "code",
   "execution_count": 14,
   "id": "4107bd0c-fdf2-4b60-99aa-52537e1ebd37",
   "metadata": {},
   "outputs": [
    {
     "name": "stdout",
     "output_type": "stream",
     "text": [
      "          UserID  MovieID  Rating     Timestamp\n",
      "10000058   71569    65134     5.0  1.743005e+09\n",
      "10000059   71569    65134     5.0  1.743005e+09\n",
      "10000060   71569    65134     4.0  1.743005e+09\n",
      "10000061   71569    65134     3.0  1.743005e+09\n"
     ]
    }
   ],
   "source": [
    "# Find the maximum UserID and increase it by one\n",
    "new_user_id = ratings_df['UserID'].max() + 1\n",
    "\n",
    "# List of new ratings\n",
    "new_ratings_list = [\n",
    "    {'Title': 'Judge Dredd', 'Rating': 5},\n",
    "    {'Title': 'Waterworld', 'Rating': 5},\n",
    "    {'Title': 'Screamers', 'Rating': 4},\n",
    "    {'Title': 'Jumanji', 'Rating': 3},\n",
    "]\n",
    "\n",
    "# Initialize an empty list to store new ratings and new movie entries\n",
    "new_ratings = []\n",
    "new_movies = []\n",
    "\n",
    "# Check if each movie title exists in the movies DataFrame\n",
    "for rating in new_ratings_list:\n",
    "    movie_title = rating['Title']\n",
    "    movie_row = movies_df[movies_df['Title'] == movie_title]\n",
    "    if movie_row.empty:\n",
    "        new_movie_id = movies_df['MovieID'].max() + 1\n",
    "        new_movies.append({'MovieID': new_movie_id, 'Title': movie_title, 'Genres': ''})\n",
    "        new_ratings.append({'UserID': new_user_id, 'MovieID': new_movie_id, 'Rating': rating['Rating'], 'Timestamp': pd.Timestamp.now().timestamp()})\n",
    "    else:\n",
    "        new_ratings.append({'UserID': new_user_id, 'MovieID': movie_row['MovieID'].values[0], 'Rating': rating['Rating'], 'Timestamp': pd.Timestamp.now().timestamp()})\n",
    "\n",
    "movies_df = pd.concat([movies_df, pd.DataFrame(new_movies)], ignore_index=True)\n",
    "\n",
    "# Convert new ratings to DataFrame and add new ratings to the ratings table\n",
    "ratings_df = pd.concat([ratings_df, pd.DataFrame(new_ratings)], ignore_index=True)\n",
    "print(ratings_df[ratings_df['UserID'] == new_user_id])\n",
    "\n",
    "#Find Maximum UserID: Identify the maximum UserID and increase it by one to get the new UserID.\n",
    "#New User's Ratings: Define the new user's ratings for the specified movies.\n",
    "#Add to Ratings Table: Convert the new ratings to a DataFrame and concatenate it with the existing ratings table."
   ]
  },
  {
   "cell_type": "code",
   "execution_count": null,
   "id": "489d93fc-fe99-4776-af7e-2d08d11f1041",
   "metadata": {},
   "outputs": [],
   "source": []
  }
 ],
 "metadata": {
  "kernelspec": {
   "display_name": "Python 3 (ipykernel)",
   "language": "python",
   "name": "python3"
  },
  "language_info": {
   "codemirror_mode": {
    "name": "ipython",
    "version": 3
   },
   "file_extension": ".py",
   "mimetype": "text/x-python",
   "name": "python",
   "nbconvert_exporter": "python",
   "pygments_lexer": "ipython3",
   "version": "3.12.6"
  }
 },
 "nbformat": 4,
 "nbformat_minor": 5
}
