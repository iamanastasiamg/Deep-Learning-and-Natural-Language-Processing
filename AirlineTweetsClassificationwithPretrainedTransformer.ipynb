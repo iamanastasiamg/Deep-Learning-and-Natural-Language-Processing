{
 "cells": [
  {
   "cell_type": "markdown",
   "id": "7597eddc-6ea2-4d4e-9b4a-c1f3f1002fce",
   "metadata": {},
   "source": [
    "### Exercise 3: Classification of Airline Tweets with Pretrained Transformers"
   ]
  },
  {
   "cell_type": "markdown",
   "id": "9282a4bd-f670-448e-af06-fc8ea257fd4d",
   "metadata": {},
   "source": [
    "##### Import the libraries necessary for this project."
   ]
  },
  {
   "cell_type": "code",
   "execution_count": 1,
   "id": "454fffb0-e122-4a33-b9e4-db58fbf9a813",
   "metadata": {},
   "outputs": [],
   "source": [
    "import numpy as np\n",
    "import pandas as pd\n",
    "import re\n",
    "from nltk.tokenize import word_tokenize\n",
    "from nltk.stem import WordNetLemmatizer\n",
    "import nltk\n",
    "from nltk.corpus import stopwords\n",
    "from sklearn.model_selection import train_test_split\n",
    "from sklearn.preprocessing import MultiLabelBinarizer\n",
    "from sklearn.feature_extraction.text import TfidfVectorizer\n",
    "from sklearn.linear_model import LogisticRegression\n",
    "from sklearn.multiclass import OneVsRestClassifier\n",
    "from sklearn.metrics import classification_report\n",
    "import transformers\n",
    "from transformers import BertTokenizer, BertForSequenceClassification\n",
    "import torch\n",
    "from torch.nn import BCEWithLogitsLoss\n",
    "from torch.optim import Adam\n",
    "from torch.utils.data import DataLoader, TensorDataset\n",
    "import matplotlib.pyplot as plt\n",
    "from sklearn.metrics import confusion_matrix\n",
    "import seaborn as sns\n",
    "import warnings\n",
    "\n",
    "warnings.filterwarnings(\"ignore\")"
   ]
  },
  {
   "cell_type": "markdown",
   "id": "8da6bdd9-1cc9-4c8d-9a86-6970c19b1b48",
   "metadata": {},
   "source": [
    "##### Data Preprocessing: Loading the dataset and preprocessing steps as in Exercise 1."
   ]
  },
  {
   "cell_type": "code",
   "execution_count": 2,
   "id": "4e7016d5-5dbe-4c02-b09f-67285480fc21",
   "metadata": {},
   "outputs": [],
   "source": [
    "def remove_unwanted(text):\n",
    "    text = re.sub(r'http\\S+|www\\S+', '', text)\n",
    "    text = re.sub(r'@\\w+', '', text)\n",
    "    text = re.sub(r'#\\w+', '', text)\n",
    "    emojis = re.compile(\n",
    "        \"[\\U0001F600-\\U0001F64F\" # Emoticons\n",
    "        \"\\U0001F300-\\U0001F5FF\"  # Symbols & Pictographs\n",
    "        \"\\U0001F680-\\U0001F6FF\"  # Transport & Map Symbols\n",
    "        \"\\U0001F700-\\U0001F77F\"  # Alchemical Symbols\n",
    "        \"\\U0001F780-\\U0001F7FF\"  # Geometric Shapes Extended\n",
    "        \"\\U0001F800-\\U0001F8FF\"  # Supplemental Arrows-C\n",
    "        \"\\U0001F900-\\U0001F9FF\"  # Supplemental Symbols and Pictographs\n",
    "        \"\\U0001FA00-\\U0001FA6F\"  # Chess Symbols\n",
    "        \"\\U0001FA70-\\U0001FAFF\"  # Symbols and Pictographs Extended-A\n",
    "        \"\\U00002702-\\U000027B0\"  # Dingbats\n",
    "        \"\\U000024C2-\\U0001F251\"  # Enclosed characters\n",
    "        \"]\", flags=re.UNICODE\n",
    "    )\n",
    "    text = emojis.sub(r'', text)\n",
    "    return text\n",
    "\n",
    "def preprocessing(sentence):\n",
    "    sentence = remove_unwanted(sentence)\n",
    "    sentence = sentence.lower()\n",
    "    tokens = word_tokenize(sentence, language='english', preserve_line=True)\n",
    "    stop_words = set(stopwords.words('english'))\n",
    "    lemmatizer = WordNetLemmatizer()\n",
    "    filtered_tokens = [lemmatizer.lemmatize(word) for word in tokens if word not in stop_words]\n",
    "    text = \" \".join(filtered_tokens)\n",
    "    return filtered_tokens"
   ]
  },
  {
   "cell_type": "code",
   "execution_count": 3,
   "id": "3eb505a4-ffe7-4b43-b963-996bacf56fac",
   "metadata": {},
   "outputs": [
    {
     "name": "stdout",
     "output_type": "stream",
     "text": [
      "The labels of the dataset are: ['neutral' 'positive' 'negative']\n"
     ]
    }
   ],
   "source": [
    "df = pd.read_csv(\"datasets/Tweets.csv\", encoding=\"utf-8\")\n",
    "tokens = [preprocessing(sentence) for sentence in df['text']]\n",
    "df['text'] = [\" \".join(token) for token in tokens]\n",
    "\n",
    "labels = df.airline_sentiment.unique()\n",
    "print(f'The labels of the dataset are: {labels}')"
   ]
  },
  {
   "cell_type": "markdown",
   "id": "f1aeacd9-9740-4587-bbc4-4b0a10275bd9",
   "metadata": {},
   "source": [
    "##### The following code snippet provided in the course materials (Useful Code of the Lesson). Hyperparameters and architecture adjusted to improve performance and achieve the best results."
   ]
  },
  {
   "cell_type": "code",
   "execution_count": 4,
   "id": "127fc724-09b1-4c9b-b531-50e727b87dd1",
   "metadata": {},
   "outputs": [
    {
     "name": "stderr",
     "output_type": "stream",
     "text": [
      "Some weights of BertForSequenceClassification were not initialized from the model checkpoint at bert-base-uncased and are newly initialized: ['classifier.bias', 'classifier.weight']\n",
      "You should probably TRAIN this model on a down-stream task to be able to use it for predictions and inference.\n"
     ]
    },
    {
     "name": "stdout",
     "output_type": "stream",
     "text": [
      "Using device: cuda\n"
     ]
    }
   ],
   "source": [
    "X = [str(i) for i in df[\"text\"].values]\n",
    "y = [str(i) for i in df[\"airline_sentiment\"].values]\n",
    "\n",
    "# Create a train/test split\n",
    "# Adjust test_size and random_state as you prefer\n",
    "X_train, X_test, y_train, y_test = train_test_split(\n",
    "    X,\n",
    "    y,\n",
    "    test_size=0.2,       # 20% of data goes to test\n",
    "    random_state=42,     # for reproducibility\n",
    "    stratify=y           # keeps class distribution balanced\n",
    ")\n",
    "\n",
    "# For example, take 10% of the original training data to form a validation set\n",
    "X_train, X_val, y_train, y_val = train_test_split(\n",
    "    X_train,\n",
    "    y_train,\n",
    "    test_size=0.1,\n",
    "    random_state=42,\n",
    "    stratify=y_train\n",
    ")\n",
    "\n",
    "# Convert your list of lists of labels into a binarized form\n",
    "mlb = MultiLabelBinarizer()\n",
    "y_train_encoded = mlb.fit_transform(y_train)\n",
    "y_val_encoded = mlb.transform(y_val)\n",
    "y_test_encoded = mlb.transform(y_test)\n",
    "\n",
    "# Vectorize the text data\n",
    "vectorizer = TfidfVectorizer(max_features=5000)\n",
    "X_train_vectorized = vectorizer.fit_transform(X_train)\n",
    "X_val_vectorized = vectorizer.transform(X_val)\n",
    "\n",
    "# Use OneVsRestClassifier for multi-label classification\n",
    "model = OneVsRestClassifier(LogisticRegression(max_iter=1000))\n",
    "model.fit(X_train_vectorized, y_train_encoded)\n",
    "\n",
    "# Predict on the training set\n",
    "y_train_pred = model.predict(X_train_vectorized)\n",
    "\n",
    "# Predict on the validation set\n",
    "y_val_pred = model.predict(X_val_vectorized)\n",
    "\n",
    "# Instantiate the BERT tokenizer with WordPiece tokenization\n",
    "bert_tokenizer = BertTokenizer.from_pretrained('bert-base-uncased')\n",
    "\n",
    "# Function for the tokenization\n",
    "def tokenize_text(data, tokenizer, max_length=256):\n",
    "    return tokenizer(data, padding='max_length',\n",
    "                     max_length=max_length, truncation=True, return_tensors='pt')\n",
    "\n",
    "bert_val = tokenize_text(X_val, bert_tokenizer)\n",
    "bert_train = tokenize_text(X_train, bert_tokenizer)\n",
    "bert_test = tokenize_text(X_test, bert_tokenizer)\n",
    "\n",
    "# Load BERT model and tokenizer\n",
    "model_name = 'bert-base-uncased'\n",
    "bert_model = BertForSequenceClassification.from_pretrained(model_name, num_labels=len(labels))\n",
    "\n",
    "# Check if GPU is available and set the device accordingly\n",
    "device = torch.device(\"cuda\" if torch.cuda.is_available() else \"cpu\")\n",
    "torch.cuda.empty_cache()\n",
    "print(f\"Using device: {device}\")\n",
    "\n",
    "# Move your model to the selected device\n",
    "bert_model = bert_model.to(device)"
   ]
  },
  {
   "cell_type": "code",
   "execution_count": 5,
   "id": "13bc1c1a-dcf4-4b56-8e51-16ef2466dce3",
   "metadata": {},
   "outputs": [],
   "source": [
    "# Make y_train, y_dev tensors\n",
    "y_train_encoded = torch.tensor(y_train_encoded)\n",
    "y_val_encoded = torch.tensor(y_val_encoded)\n",
    "\n",
    "# Define batch size\n",
    "batch_size = 16\n",
    "\n",
    "# Create TensorDatasets\n",
    "train_dataset = TensorDataset(bert_train['input_ids'], bert_train['attention_mask'], y_train_encoded)\n",
    "val_dataset = TensorDataset(bert_val['input_ids'], bert_val['attention_mask'], y_val_encoded)\n",
    "\n",
    "# Create DataLoader\n",
    "train_loader = DataLoader(train_dataset, batch_size=batch_size, shuffle=True)\n",
    "val_loader = DataLoader(val_dataset, batch_size=batch_size)\n",
    "\n",
    "param_freeze = ['bert.embeddings', 'bert.encoder.layer.0',\n",
    "                'bert.encoder.layer.1.', 'bert.encoder.layer.2',\n",
    "                'bert.encoder.layer.3', 'bert.encoder.layer.4',\n",
    "                'bert.encoder.layer.5']\n",
    "\n",
    "# Unfreeze the parameters of the classification head except the above\n",
    "for name, param in bert_model.named_parameters():\n",
    "    param.requires_grad = not any(name.startswith(prefix) for prefix in param_freeze)"
   ]
  },
  {
   "cell_type": "code",
   "execution_count": 6,
   "id": "d0891bb1-4aca-4a4f-8a3c-08cc3cdda2f1",
   "metadata": {},
   "outputs": [
    {
     "data": {
      "text/plain": [
       "'For batch \"659\": Training - Loss: 0.112'"
      ]
     },
     "metadata": {},
     "output_type": "display_data"
    },
    {
     "name": "stdout",
     "output_type": "stream",
     "text": [
      "\n",
      "Epoch 1/20: Training - Loss: 0.370\n",
      "Validation improved, saving model to /content/drive/MyDrive/best_model.pth\n",
      "Validation - Loss: 0.282\n",
      "\n",
      "Epoch 2/20: Training - Loss: 0.256\n",
      "Validation improved, saving model to /content/drive/MyDrive/best_model.pth\n",
      "Validation - Loss: 0.261\n",
      "\n",
      "Epoch 3/20: Training - Loss: 0.224\n",
      "Validation improved, saving model to /content/drive/MyDrive/best_model.pth\n",
      "Validation - Loss: 0.257\n",
      "\n",
      "Epoch 4/20: Training - Loss: 0.197\n",
      "Validation did not improve\n",
      "Validation - Loss: 0.258\n",
      "\n",
      "Epoch 5/20: Training - Loss: 0.180\n",
      "Validation did not improve\n",
      "Validation - Loss: 0.261\n",
      "\n",
      "Epoch 6/20: Training - Loss: 0.157\n",
      "Validation did not improve\n",
      "Validation - Loss: 0.264\n",
      "\n",
      "Epoch 7/20: Training - Loss: 0.138\n",
      "Validation did not improve\n",
      "Validation - Loss: 0.285\n",
      "\n",
      "Epoch 8/20: Training - Loss: 0.112\n",
      "Validation did not improve\n",
      "Early stopping\n"
     ]
    }
   ],
   "source": [
    "from IPython.display import display, update_display\n",
    "from torch.optim.lr_scheduler import ReduceLROnPlateau\n",
    "\n",
    "# Define the number of epochs\n",
    "num_epochs = 20\n",
    "\n",
    "#optimizer_grouped_parameters = [\n",
    "#    {'params': bert_model.bert.encoder.layer[i].parameters(), 'lr': 1e-5 / (i + 1)}\n",
    "#    for i in range(len(bert_model.bert.encoder.layer))\n",
    "#]\n",
    "#optimizer = Adam(optimizer_grouped_parameters, lr=1e-5)\n",
    "# Prepare optimizer and loss function\n",
    "optimizer = Adam(bert_model.parameters(), lr=1e-5)\n",
    "\n",
    "# Set up the ReduceLROnPlateau scheduler\n",
    "scheduler = ReduceLROnPlateau(optimizer, mode='min', factor=0.1, patience=3)\n",
    "\n",
    "# Updated loss function with weights\n",
    "loss_function = torch.nn.BCEWithLogitsLoss()\n",
    "\n",
    "# Initialize a display object for updating output in-place\n",
    "display_id = 'batch_update'\n",
    "display_obj = display(\"\", display_id=display_id)\n",
    "\n",
    "# Initialize lists to store history\n",
    "train_losses = []\n",
    "val_losses = []\n",
    "patience = 0\n",
    "\n",
    "# Initialize variables to track best validation loss and corresponding model weights\n",
    "best_val_loss = float('inf')\n",
    "best_model_weights = None\n",
    "\n",
    "# Adjust the model's output layer, if not already adjusted\n",
    "bert_model.classifier = torch.nn.Linear(bert_model.config.hidden_size, len(mlb.classes_))\n",
    "bert_model.to(device)\n",
    "\n",
    "# Training loop\n",
    "for epoch in range(num_epochs):\n",
    "    # Unfreeze each layer progressively\n",
    "    #for layer in bert_model.bert.encoder.layer:\n",
    "    #    for param in layer.parameters():\n",
    "    #        param.requires_grad = True\n",
    "    #        bert_model.train()\n",
    "    bert_model.train()\n",
    "    total_loss = 0\n",
    "    cnt = 0\n",
    "    for batch in train_loader:\n",
    "        cnt += 1\n",
    "        optimizer.zero_grad()  # Reset gradients to zero for each batch\n",
    "        input_ids, attention_mask, labels = batch\n",
    "        input_ids, attention_mask, labels = input_ids.to(device), attention_mask.to(device), labels.to(device)  # Move the tensors to the specified device\n",
    "        # Get model outputs (logits)\n",
    "        outputs = bert_model(input_ids=input_ids, attention_mask=attention_mask)\n",
    "        \n",
    "        logits = outputs.logits  # Ensure your model configuration aligns with this, or adjust as needed\n",
    "        \n",
    "        # Compute loss using the logits from the model and the labels from your dataset\n",
    "        loss = loss_function(logits, labels.float())\n",
    "        loss.backward()\n",
    "        optimizer.step()\n",
    "\n",
    "        total_loss += loss.item()\n",
    "        # Update the displayed output for this batch\n",
    "        output = f'For batch \"{cnt}\": Training - Loss: {total_loss/cnt:.3f}'\n",
    "        update_display(output, display_id=display_id)\n",
    "    avg_train_loss = total_loss / len(train_loader)\n",
    "    train_losses.append(avg_train_loss)\n",
    "    print(f'\\nEpoch {epoch+1}/{num_epochs}: Training - Loss: {avg_train_loss:.3f}')\n",
    "\n",
    "    # Validation loop\n",
    "    bert_model.eval()\n",
    "    total_val_loss = 0\n",
    "    for batch in val_loader:\n",
    "        input_ids, attention_mask, labels = batch\n",
    "        input_ids, attention_mask, labels = input_ids.to(device), attention_mask.to(device), labels.to(device)  # Move the tensors to the specified device\n",
    "        with torch.no_grad():\n",
    "            outputs = bert_model(input_ids=input_ids, attention_mask=attention_mask)\n",
    "            logits = outputs.logits\n",
    "            val_loss = loss_function(logits, labels.float())\n",
    "\n",
    "        total_val_loss += val_loss.item()\n",
    "\n",
    "    avg_val_loss = total_val_loss / len(val_loader)\n",
    "    val_losses.append(avg_val_loss)\n",
    "\n",
    "    if avg_val_loss < best_val_loss:\n",
    "        best_val_loss = avg_val_loss\n",
    "        best_model_weights = bert_model.state_dict()\n",
    "        torch.save(best_model_weights, 'datasets/best_model.pth')  # Make sure the path is correct and accessible\n",
    "        print(f'Validation improved, saving model to /content/drive/MyDrive/best_model.pth')\n",
    "        patience = 0\n",
    "    else:\n",
    "        print(f'Validation did not improve')\n",
    "        patience += 1\n",
    "        if patience >= 5:\n",
    "            print('Early stopping')\n",
    "            break\n",
    "\n",
    "    print(f'Validation - Loss: {avg_val_loss:.3f}')\n",
    "    \n",
    "    # Check the average validation loss and update the learning rate accordingly\n",
    "    scheduler.step(avg_val_loss)"
   ]
  },
  {
   "cell_type": "markdown",
   "id": "31007f34-3a5a-4956-a4e6-2525eb055b6b",
   "metadata": {},
   "source": [
    "##### Plot training and validation losses."
   ]
  },
  {
   "cell_type": "code",
   "execution_count": 7,
   "id": "d1e06751-4b00-48f0-99a3-46378c5f7565",
   "metadata": {},
   "outputs": [
    {
     "data": {
      "image/png": "[encoded data removed]",
      "text/plain": [
       "<Figure size 640x480 with 1 Axes>"
      ]
     },
     "metadata": {},
     "output_type": "display_data"
    }
   ],
   "source": [
    "epochs = range(1, len(train_losses) + 1)\n",
    "plt.plot(epochs, train_losses, 'b', label='Training loss')\n",
    "plt.plot(epochs, val_losses, 'r', label='Validation loss')\n",
    "plt.title('Training and Validation Loss')\n",
    "plt.xlabel('Epochs')\n",
    "plt.ylabel('Loss')\n",
    "plt.legend()\n",
    "plt.show()"
   ]
  },
  {
   "cell_type": "markdown",
   "id": "5aefbb9e-ad3b-4224-9a30-3c9690891097",
   "metadata": {},
   "source": [
    "##### Evaluation on training data."
   ]
  },
  {
   "cell_type": "code",
   "execution_count": 37,
   "id": "be9cf60d-094f-4b8b-82cc-42f89c56802c",
   "metadata": {},
   "outputs": [],
   "source": [
    "bert_model.eval()\n",
    "predictions_test = []\n",
    "true_labels_test = []\n",
    "\n",
    "for batch in train_loader:\n",
    "    input_ids, attention_mask, labels = batch\n",
    "    input_ids, attention_mask, labels = input_ids.to(device), attention_mask.to(device), labels.to(device)\n",
    "\n",
    "    with torch.no_grad():\n",
    "        outputs = bert_model(input_ids=input_ids, attention_mask=attention_mask)\n",
    "        logits = outputs.logits\n",
    "\n",
    "    # Apply sigmoid to the logits and then threshold to get binary predictions\n",
    "    predictions = torch.sigmoid(logits).cpu().numpy() > 0.3\n",
    "    labels = labels.cpu().numpy()\n",
    "\n",
    "    # Extend the lists with the batch predictions and true labels\n",
    "    predictions_test.extend(predictions)\n",
    "    true_labels_test.extend(labels)\n",
    "\n",
    "# At this point, you have the true labels and predictions\n",
    "# You can then flatten these lists and use them in sklearn's classification_report\n",
    "true_labels_test = np.array(true_labels_test)\n",
    "predictions_test = np.array(predictions_test)"
   ]
  },
  {
   "cell_type": "markdown",
   "id": "0c9b39d2-8cee-45e7-b87e-d56e626b4939",
   "metadata": {},
   "source": [
    "##### Create function for plotting confusion matrix."
   ]
  },
  {
   "cell_type": "code",
   "execution_count": 43,
   "id": "7b14b830-8ba3-41cb-a07a-ac97c643cb17",
   "metadata": {},
   "outputs": [
    {
     "data": {
      "image/png": "[encoded data removed]",
      "text/plain": [
       "<Figure size 640x480 with 2 Axes>"
      ]
     },
     "metadata": {},
     "output_type": "display_data"
    }
   ],
   "source": [
    "def plot_cm(cm):\n",
    "  sns.heatmap(pd.DataFrame(cm), annot=True, cmap=\"PuBu\" ,fmt='g', xticklabels=['Positive','Negative'], yticklabels=['Positive','Negative'])\n",
    "  plt.title('Confusion matrix', y=1.1)\n",
    "  plt.show()\n",
    "\n",
    "cm = confusion_matrix(true_labels_test.argmax(axis=1), predictions_test.argmax(axis=1))\n",
    "plot_cm(cm)"
   ]
  },
  {
   "cell_type": "markdown",
   "id": "9801d231-12fd-42b0-923c-fa8db24a3b08",
   "metadata": {},
   "source": [
    "#### Brief Explanation\n",
    "##### Transformer Model Architecture\n",
    "For the classification of airline tweets, we chose the BERT (Bidirectional Encoder Representations from Transformers) model. BERT is a transformer-based model that uses a bidirectional approach to pre-train language representations. It is designed to understand the context of a word based on its surroundings both before and after the word, which is achieved through its bidirectional training method. The BERT model consists of multiple layers of encoders, each with self-attention mechanisms, allowing it to capture intricate patterns in the text.\n",
    "\n",
    "Fine-tuning is the process of adapting the pretrained transformer model to the specific task of classifying airline tweets allowing it to improve its performance.\n",
    "\n",
    "##### Model Modifications Experiments\n",
    "1. **Freezing Layers**: We froze the initial layers of the BERT model that contain general knowledgeand focus on fine-tuning the layers for the specific classification task.\n",
    "2. **Gradual Unfreezing**: Gradually unfreeze the layers of the Transformer model during training helps in retaining the learned features in the early layers while fine-tuning the higher layers.\n",
    "3. **Adjusting Learning Rates**: Assign higher learning rates to the top layers and lower learning rates to the bottom layers helped in achieving better performance. This technique, known as layer-wise learning rate decay, ensures that the top layers adapt faster to the specific task.\n",
    "   \n",
    "By implementing these modifications, we were able to enhance the performance of the BERT model for the task of airline tweet classification, ensuring accurate and efficient sentiment analysis."
   ]
  }
 ],
 "metadata": {
  "kernelspec": {
   "display_name": "Python 3 (ipykernel)",
   "language": "python",
   "name": "python3"
  },
  "language_info": {
   "codemirror_mode": {
    "name": "ipython",
    "version": 3
   },
   "file_extension": ".py",
   "mimetype": "text/x-python",
   "name": "python",
   "nbconvert_exporter": "python",
   "pygments_lexer": "ipython3",
   "version": "3.12.3"
  }
 },
 "nbformat": 4,
 "nbformat_minor": 5
}
